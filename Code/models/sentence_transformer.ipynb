{
 "cells": [
  {
   "cell_type": "code",
   "execution_count": 2,
   "metadata": {},
   "outputs": [],
   "source": [
    "from sentence_transformers import SentenceTransformer\n",
    "model = SentenceTransformer('all-mpnet-base-v2')\n",
    "import pandas as pd\n",
    "from sklearn.metrics.pairwise import cosine_similarity\n",
    "import pandas as pd\n",
    "import numpy as np\n",
    "import torch\n",
    "from sklearn.metrics.pairwise import cosine_similarity"
   ]
  },
  {
   "cell_type": "code",
   "execution_count": 7,
   "metadata": {},
   "outputs": [],
   "source": [
    "## read data\n",
    "#import os\n",
    "#print(os.getcwd())\n",
    "data = pd.read_csv('data/preprocessed_data.csv', index_col=0)\n",
    "#data = data.head(200)"
   ]
  },
  {
   "cell_type": "code",
   "execution_count": 8,
   "metadata": {},
   "outputs": [],
   "source": [
    "## define categories\n",
    "categories = [\"political instability\", \"geopolitical factors\", \"currency fluctuations\", \"investment demand\", \"supply demand\", \n",
    "\"industrial demand\", \"natural disasters\"]"
   ]
  },
  {
   "cell_type": "code",
   "execution_count": 9,
   "metadata": {},
   "outputs": [],
   "source": [
    "## calculate categories embeddings\n",
    "categories_enc = model.encode(categories)\n",
    "\n",
    "## calculate cosine similarity of one sentence with each category\n",
    "def calculate_scores(entry, type='content'):\n",
    "    input = entry[type]\n",
    "    sentence_embeddings = model.encode(input)\n",
    "    sentence_embeddings = categories_enc + [sentence_embeddings]\n",
    "    scores = []\n",
    "    for i in range(len(categories)):\n",
    "        scores.append(cosine_similarity(sentence_embeddings[i].reshape(1, -1), sentence_embeddings[-1].reshape(1, -1)))\n",
    "    return np.array(scores)\n"
   ]
  },
  {
   "cell_type": "code",
   "execution_count": 10,
   "metadata": {},
   "outputs": [],
   "source": [
    "## calculate scores for each sentence\n",
    "data_regression = data.apply(calculate_scores, axis=1, type='title')\n",
    "feature = 'title'"
   ]
  },
  {
   "cell_type": "code",
   "execution_count": null,
   "metadata": {},
   "outputs": [],
   "source": [
    "## saving scores to csv and pickle\n",
    "data_regression_convert = pd.DataFrame(np.array(data_regression.to_list()).reshape(-1, 7), columns=categories)\n",
    "data_regression_convert['date'] = data['date'].values\n",
    "\n",
    "data_regression_convert.to_csv(f\"./regression_data/data_regression_sentence_transformer_{feature}.csv\")\n",
    "data_regression_convert.to_pickle(f\"./regression_data/data_regression_sentence_transformer_{feature}.pickle\")"
   ]
  },
  {
   "cell_type": "code",
   "execution_count": null,
   "metadata": {},
   "outputs": [],
   "source": [
    "#data['tokenize'] = data['content'].apply(sent_tokenize)\n",
    "#out = data.apply(lambda x: model.encode(x['tokenize']), axis=1)"
   ]
  }
 ],
 "metadata": {
  "kernelspec": {
   "display_name": "venv",
   "language": "python",
   "name": "python3"
  },
  "language_info": {
   "codemirror_mode": {
    "name": "ipython",
    "version": 3
   },
   "file_extension": ".py",
   "mimetype": "text/x-python",
   "name": "python",
   "nbconvert_exporter": "python",
   "pygments_lexer": "ipython3",
   "version": "3.11.4"
  }
 },
 "nbformat": 4,
 "nbformat_minor": 2
}
