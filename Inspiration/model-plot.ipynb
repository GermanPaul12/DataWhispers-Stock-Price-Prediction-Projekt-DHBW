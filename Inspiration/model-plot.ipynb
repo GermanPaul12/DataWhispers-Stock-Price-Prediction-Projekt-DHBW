{
 "cells": [
  {
   "cell_type": "code",
   "execution_count": 1,
   "id": "initial_id",
   "metadata": {
    "ExecuteTime": {
     "end_time": "2023-11-03T10:39:36.257314Z",
     "start_time": "2023-11-03T10:39:36.205669Z"
    },
    "collapsed": true
   },
   "outputs": [],
   "source": [
    "import pandas as pd\n",
    "import pickle\n",
    "import sklearn\n",
    "import plotly.express as px"
   ]
  },
  {
   "cell_type": "code",
   "execution_count": null,
   "id": "4b88688f01a30d1b",
   "metadata": {
    "collapsed": false
   },
   "outputs": [],
   "source": [
    "WORD_TO_VEC = \"656978.4168_seed_5_10-00-53.562649_onData_malte_with_date_old_less_data.csv.pickle\"\n",
    "HYPERNYMS = \"2477966.8787_seed_1_10-00-53.556502_onData_malte_with_date_old_less_data.csv.pickle\"\n",
    "THIRD_APPROACH = \"1573383.0668_seed_99_10-00-53.604639_onData_data_regression_content_200d.csv.pickle\""
   ]
  },
  {
   "cell_type": "code",
   "execution_count": null,
   "id": "ca4e904f9d3993bc",
   "metadata": {
    "collapsed": false
   },
   "outputs": [],
   "source": [
    "with open(WORD_TO_VEC, 'rb') as f:\n",
    "    model = pickle.load(f)"
   ]
  },
  {
   "cell_type": "code",
   "execution_count": 8,
   "id": "c3c9151d066e4d7a",
   "metadata": {
    "ExecuteTime": {
     "end_time": "2023-11-03T10:39:37.831924Z",
     "start_time": "2023-11-03T10:39:37.787901Z"
    },
    "collapsed": false
   },
   "outputs": [
    {
     "ename": "FileNotFoundError",
     "evalue": "[Errno 2] No such file or directory: './word2vec/regression_data/models/rmse_1201366.9616_09:23:05.915810_onData_malte_with_date.csv.pickle'",
     "output_type": "error",
     "traceback": [
      "\u001b[0;31m---------------------------------------------------------------------------\u001b[0m",
      "\u001b[0;31mFileNotFoundError\u001b[0m                         Traceback (most recent call last)",
      "Cell \u001b[0;32mIn[8], line 3\u001b[0m\n\u001b[1;32m      1\u001b[0m \u001b[38;5;66;03m# read linear model from pickle\u001b[39;00m\n\u001b[0;32m----> 3\u001b[0m \u001b[38;5;28;01mwith\u001b[39;00m \u001b[38;5;28;43mopen\u001b[39;49m\u001b[43m(\u001b[49m\u001b[38;5;124;43m'\u001b[39;49m\u001b[38;5;124;43m./word2vec/regression_data/models/rmse_1201366.9616_09:23:05.915810_onData_malte_with_date.csv.pickle\u001b[39;49m\u001b[38;5;124;43m'\u001b[39;49m\u001b[43m,\u001b[49m\u001b[43m \u001b[49m\u001b[38;5;124;43m'\u001b[39;49m\u001b[38;5;124;43mrb\u001b[39;49m\u001b[38;5;124;43m'\u001b[39;49m\u001b[43m)\u001b[49m \u001b[38;5;28;01mas\u001b[39;00m f:\n\u001b[1;32m      4\u001b[0m     model \u001b[38;5;241m=\u001b[39m pickle\u001b[38;5;241m.\u001b[39mload(f)\n",
      "File \u001b[0;32m~/miniconda3/envs/msg-datathon/lib/python3.11/site-packages/IPython/core/interactiveshell.py:308\u001b[0m, in \u001b[0;36m_modified_open\u001b[0;34m(file, *args, **kwargs)\u001b[0m\n\u001b[1;32m    301\u001b[0m \u001b[38;5;28;01mif\u001b[39;00m file \u001b[38;5;129;01min\u001b[39;00m {\u001b[38;5;241m0\u001b[39m, \u001b[38;5;241m1\u001b[39m, \u001b[38;5;241m2\u001b[39m}:\n\u001b[1;32m    302\u001b[0m     \u001b[38;5;28;01mraise\u001b[39;00m \u001b[38;5;167;01mValueError\u001b[39;00m(\n\u001b[1;32m    303\u001b[0m         \u001b[38;5;124mf\u001b[39m\u001b[38;5;124m\"\u001b[39m\u001b[38;5;124mIPython won\u001b[39m\u001b[38;5;124m'\u001b[39m\u001b[38;5;124mt let you open fd=\u001b[39m\u001b[38;5;132;01m{\u001b[39;00mfile\u001b[38;5;132;01m}\u001b[39;00m\u001b[38;5;124m by default \u001b[39m\u001b[38;5;124m\"\u001b[39m\n\u001b[1;32m    304\u001b[0m         \u001b[38;5;124m\"\u001b[39m\u001b[38;5;124mas it is likely to crash IPython. If you know what you are doing, \u001b[39m\u001b[38;5;124m\"\u001b[39m\n\u001b[1;32m    305\u001b[0m         \u001b[38;5;124m\"\u001b[39m\u001b[38;5;124myou can use builtins\u001b[39m\u001b[38;5;124m'\u001b[39m\u001b[38;5;124m open.\u001b[39m\u001b[38;5;124m\"\u001b[39m\n\u001b[1;32m    306\u001b[0m     )\n\u001b[0;32m--> 308\u001b[0m \u001b[38;5;28;01mreturn\u001b[39;00m \u001b[43mio_open\u001b[49m\u001b[43m(\u001b[49m\u001b[43mfile\u001b[49m\u001b[43m,\u001b[49m\u001b[43m \u001b[49m\u001b[38;5;241;43m*\u001b[39;49m\u001b[43margs\u001b[49m\u001b[43m,\u001b[49m\u001b[43m \u001b[49m\u001b[38;5;241;43m*\u001b[39;49m\u001b[38;5;241;43m*\u001b[39;49m\u001b[43mkwargs\u001b[49m\u001b[43m)\u001b[49m\n",
      "\u001b[0;31mFileNotFoundError\u001b[0m: [Errno 2] No such file or directory: './word2vec/regression_data/models/rmse_1201366.9616_09:23:05.915810_onData_malte_with_date.csv.pickle'"
     ]
    }
   ],
   "source": [
    "# read linear model from pickle\n",
    "\n",
    "with open('./word2vec/regression_data/models/rmse_1201366.9616_09:23:05.915810_onData_malte_with_date.csv.pickle', 'rb') as f:\n",
    "    model = pickle.load(f)"
   ]
  },
  {
   "cell_type": "code",
   "execution_count": 5,
   "id": "6e50248742ca0d3",
   "metadata": {
    "ExecuteTime": {
     "end_time": "2023-11-03T08:29:54.356692Z",
     "start_time": "2023-11-03T08:29:54.350678Z"
    },
    "collapsed": false
   },
   "outputs": [],
   "source": [
    "# read data\n",
    "X_train, X_test, y_train, y_test = pd.read_pickle('./word2vec/regression_data/data/1201366.9616_09:28:59.028102_onData_malte_with_date.csv.pickle')"
   ]
  },
  {
   "cell_type": "code",
   "execution_count": 6,
   "id": "4291d9b636120b54",
   "metadata": {
    "ExecuteTime": {
     "end_time": "2023-11-03T08:30:21.783162Z",
     "start_time": "2023-11-03T08:30:21.767529Z"
    },
    "collapsed": false
   },
   "outputs": [
    {
     "name": "stdout",
     "output_type": "stream",
     "text": [
      "(67, 7)\n",
      "(23, 7)\n"
     ]
    }
   ],
   "source": [
    "print(X_train.shape)\n",
    "print(X_test.shape)"
   ]
  },
  {
   "cell_type": "code",
   "execution_count": null,
   "id": "1dd4d2fd5d856314",
   "metadata": {
    "collapsed": false
   },
   "outputs": [],
   "source": [
    "fig = px."
   ]
  }
 ],
 "metadata": {
  "kernelspec": {
   "display_name": "Python 3",
   "language": "python",
   "name": "python3"
  },
  "language_info": {
   "codemirror_mode": {
    "name": "ipython",
    "version": 3
   },
   "file_extension": ".py",
   "mimetype": "text/x-python",
   "name": "python",
   "nbconvert_exporter": "python",
   "pygments_lexer": "ipython3",
   "version": "3.11.7"
  }
 },
 "nbformat": 4,
 "nbformat_minor": 5
}
