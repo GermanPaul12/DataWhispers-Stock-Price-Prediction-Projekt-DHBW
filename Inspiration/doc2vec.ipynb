{
 "cells": [
  {
   "cell_type": "code",
   "execution_count": 3,
   "metadata": {},
   "outputs": [],
   "source": [
    "from docarray import BaseDoc\n",
    "from docarray.typing import NdArray\n",
    "import pandas as pd\n",
    "from sklearn.metrics.pairwise import cosine_similarity\n",
    "import numpy as np"
   ]
  },
  {
   "cell_type": "code",
   "execution_count": 5,
   "metadata": {},
   "outputs": [],
   "source": [
    "data = pd.read_csv('data/preprocessed_data.csv', index_col=0)\n",
    "vector_dimension = 256\n",
    "epochs = 50\n",
    "#data = data.head(200)"
   ]
  },
  {
   "cell_type": "code",
   "execution_count": 6,
   "metadata": {},
   "outputs": [],
   "source": [
    "from gensim.models.doc2vec import Doc2Vec,\\\n",
    "\tTaggedDocument\n",
    "from nltk.tokenize import word_tokenize\n",
    "\n",
    "# preproces the documents, and create TaggedDocuments\n",
    "tagged_data = [TaggedDocument(words=word_tokenize(doc.lower()),\n",
    "\t\t\t\t\t\t\ttags=[str(i)]) for i,\n",
    "\t\t\tdoc in enumerate(data['content'])]\n",
    "\n",
    "# train the Doc2vec model\n",
    "model = Doc2Vec(vector_size=vector_dimension,\n",
    "\t\t\t\tmin_count=2, epochs=epochs)\n",
    "model.build_vocab(tagged_data)\n",
    "model.train(tagged_data,\n",
    "\t\t\ttotal_examples=model.corpus_count,\n",
    "\t\t\tepochs=model.epochs)\n",
    "\n",
    "# # get the document vectors\n",
    "# document_vectors = [model.infer_vector(\n",
    "# \tword_tokenize(doc.lower())) for doc in data]\n",
    "\n",
    "# # print the document vectors\n",
    "# for i, doc in enumerate(data):\n",
    "# \tprint(\"Document\", i+1, \":\", doc)\n",
    "# \tprint(\"Vector:\", document_vectors[i])\n",
    "# \tprint()\n"
   ]
  },
  {
   "cell_type": "code",
   "execution_count": 7,
   "metadata": {},
   "outputs": [],
   "source": [
    "categories = [\"political instability\", \"geopolitical factors\", \"currency fluctuations\", \"investment demand\", \"supply demand\", \n",
    "\"industrial demand\", \"natural disasters\"]\n",
    "\n",
    "categories_enc = [model.infer_vector(word_tokenize(category.lower())) for category in categories]"
   ]
  },
  {
   "cell_type": "code",
   "execution_count": null,
   "metadata": {},
   "outputs": [],
   "source": [
    "#model.infer_vector(word_tokenize('natural disaster'.lower()))"
   ]
  },
  {
   "cell_type": "code",
   "execution_count": 8,
   "metadata": {},
   "outputs": [],
   "source": [
    "def calculate_scores(entry, type='content'):\n",
    "    sentence_embeddings = model.infer_vector(word_tokenize(entry[type].lower()))\n",
    "    sentence_embeddings = categories_enc + [sentence_embeddings]\n",
    "    scores = []\n",
    "    for i in range(len(categories)):\n",
    "        scores.append(cosine_similarity(sentence_embeddings[i].reshape(1, -1), sentence_embeddings[-1].reshape(1, -1)))\n",
    "    return np.array(scores)"
   ]
  },
  {
   "cell_type": "code",
   "execution_count": 9,
   "metadata": {},
   "outputs": [],
   "source": [
    "data_regression = data.apply(calculate_scores, axis=1)"
   ]
  },
  {
   "cell_type": "code",
   "execution_count": 10,
   "metadata": {},
   "outputs": [],
   "source": [
    "feature = 'content'\n",
    "data_regression_convert = pd.DataFrame(np.array(data_regression.to_list()).reshape(-1, 7), columns=categories)\n",
    "data_regression_convert['date'] = data['date'].values\n",
    "\n",
    "data_regression_convert.to_csv(f\"./regression_data/data_regression_doc2vec_{feature}_{vector_dimension}_e{epochs}.csv\")\n",
    "data_regression_convert.to_pickle(f\"./regression_data/data_regression_doc2vec_{feature}_{vector_dimension}_e{epochs}.pickle\")"
   ]
  },
  {
   "cell_type": "code",
   "execution_count": null,
   "metadata": {},
   "outputs": [],
   "source": []
  }
 ],
 "metadata": {
  "kernelspec": {
   "display_name": "datathon",
   "language": "python",
   "name": "python3"
  },
  "language_info": {
   "codemirror_mode": {
    "name": "ipython",
    "version": 3
   },
   "file_extension": ".py",
   "mimetype": "text/x-python",
   "name": "python",
   "nbconvert_exporter": "python",
   "pygments_lexer": "ipython3",
   "version": "3.11.7"
  }
 },
 "nbformat": 4,
 "nbformat_minor": 2
}
