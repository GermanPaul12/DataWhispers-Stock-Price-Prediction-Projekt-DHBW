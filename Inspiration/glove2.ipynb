{
 "cells": [
  {
   "cell_type": "code",
   "execution_count": 1,
   "metadata": {},
   "outputs": [
    {
     "name": "stderr",
     "output_type": "stream",
     "text": [
      "[nltk_data] Downloading package stopwords to\n",
      "[nltk_data]     /Users/german/nltk_data...\n",
      "[nltk_data]   Package stopwords is already up-to-date!\n"
     ]
    }
   ],
   "source": [
    "import numpy as np\n",
    "from gensim.models import Word2Vec, KeyedVectors\n",
    "from sklearn.model_selection import train_test_split\n",
    "from sklearn.linear_model import LinearRegression\n",
    "from sklearn.metrics import mean_squared_error\n",
    "import nltk\n",
    "from nltk.tokenize import word_tokenize\n",
    "import pandas as pd\n",
    "import gensim.downloader as api\n",
    "from preprocess import preprocess_text\n",
    "from gensim.models.keyedvectors import Word2VecKeyedVectors\n",
    "from gensim.scripts.glove2word2vec import glove2word2vec\n",
    "from sklearn.metrics.pairwise import cosine_similarity\n",
    "\n"
   ]
  },
  {
   "cell_type": "code",
   "execution_count": 2,
   "metadata": {},
   "outputs": [],
   "source": [
    "## defining global variables\n",
    "import os\n",
    "import platform\n",
    "os_ = platform.system()\n",
    "op = \"/\"\n",
    "print(os_)\n",
    "if os_ == \"Windows\":\n",
    "    op = \"\\\\\"\n",
    "    \n",
    "datapath = f\"{op}\".join([\"models\", \"word2vec-google-news-300.model\"])\n",
    "datapath_vec = f\"{op}\".join([\"models\", \"word2vec-google-news-300.model.vectors.npy\"])\n",
    "models_path = f\"models{op}\"\n",
    "glove_input_file = 'glove.twitter.27B.200d.txt'\n",
    "glove_version = glove_input_file.split('.')[3]\n",
    "dimensions = int(glove_input_file.split('.')[3][:-1])"
   ]
  },
  {
   "cell_type": "code",
   "execution_count": 3,
   "metadata": {},
   "outputs": [],
   "source": [
    "## loading pretrained models\n",
    "model = KeyedVectors.load_word2vec_format(models_path + glove_input_file, binary=False, no_header=True)"
   ]
  },
  {
   "cell_type": "code",
   "execution_count": 14,
   "metadata": {},
   "outputs": [],
   "source": [
    "## loading data\n",
    "data = pd.read_csv('../preprocessed_data.csv', index_col=0)\n",
    "#data = data. head(500)\n",
    "feature = 'title'\n",
    "\n",
    "## preprocessing data\n",
    "data['feature_clean'] = data[feature].apply(preprocess_text)\n",
    "data = data[data[feature].notna()]"
   ]
  },
  {
   "cell_type": "code",
   "execution_count": 17,
   "metadata": {},
   "outputs": [],
   "source": [
    "## vectorizes a list of words\n",
    "def vectorize_word_list(word_list):\n",
    "    vectorized_list = []\n",
    "    for word in word_list:\n",
    "        try:\n",
    "            vectorized_list.append(model[word])\n",
    "        except KeyError:\n",
    "            pass\n",
    "    return np.array(vectorized_list)\n",
    "\n",
    "## vectorizes the categories\n",
    "def preprocess_categories(categories):\n",
    "    categories_list = []\n",
    "    for category in categories:\n",
    "        splited_categories = category.split(\" \")\n",
    "        categories_list.append(splited_categories)\n",
    "    return categories_list\n",
    "\n",
    "\n",
    "## vectorizing features\n",
    "data['feature_vectorized_mean'] = data['feature_clean'].apply(vectorize_word_list).apply(lambda x: np.mean(x, axis=0))\n",
    "assert data.iloc[0]['feature_vectorized_mean'].shape == (dimensions,)\n"
   ]
  },
  {
   "cell_type": "code",
   "execution_count": 18,
   "metadata": {},
   "outputs": [],
   "source": [
    "## defining and preprocessing categories\n",
    "categories = [\"political instability\", \"geopolitical factors\", \"currency fluctuations\", \"investment demand\", \"supply demand\", \n",
    "\"industrial demand\", \"natural disasters\"]\n",
    "pc = preprocess_categories(categories)\n",
    "vectorized_categories = np.mean(vectorize_word_list(pc), axis=1)\n",
    "assert vectorized_categories.shape == (7, dimensions)"
   ]
  },
  {
   "cell_type": "code",
   "execution_count": 19,
   "metadata": {},
   "outputs": [],
   "source": [
    "## compute similarity between an entry and categories\n",
    "def compute_similarity_with_categories(feature_vectorized_mean):\n",
    "    similarity_list = []\n",
    "    for category in vectorized_categories:\n",
    "        #print(cosine_similarity(feature_vectorized_mean.reshape(1, -1), category.reshape(1, -1)))\n",
    "        similarity_list.append(cosine_similarity(feature_vectorized_mean.reshape(1, -1), category.reshape(1, -1))[0])\n",
    "    return similarity_list"
   ]
  },
  {
   "cell_type": "code",
   "execution_count": 20,
   "metadata": {},
   "outputs": [],
   "source": [
    "# compute similarity between the entries and the categories\n",
    "data_regression = data['feature_vectorized_mean'].apply(compute_similarity_with_categories)"
   ]
  },
  {
   "cell_type": "code",
   "execution_count": 21,
   "metadata": {},
   "outputs": [],
   "source": [
    "## saving output to file\n",
    "data_regression_convert = pd.DataFrame(np.array(data_regression.to_list()).reshape(-1, 7), columns=categories)\n",
    "data_regression_convert['date'] = data['date'].values\n",
    "\n",
    "data_regression_convert.to_csv(f\"./regression_data/data_regression_{feature}_{glove_version}.csv\")\n",
    "data_regression_convert.to_pickle(f\"./regression_data/data_regression_{feature}_{glove_version}.pickle\")"
   ]
  },
  {
   "cell_type": "code",
   "execution_count": 22,
   "metadata": {},
   "outputs": [
    {
     "data": {
      "text/plain": [
       "(12987,)"
      ]
     },
     "execution_count": 22,
     "metadata": {},
     "output_type": "execute_result"
    }
   ],
   "source": [
    "# print output shape\n",
    "data_regression.shape"
   ]
  }
 ],
 "metadata": {
  "kernelspec": {
   "display_name": "datathon",
   "language": "python",
   "name": "python3"
  },
  "language_info": {
   "codemirror_mode": {
    "name": "ipython",
    "version": 3
   },
   "file_extension": ".py",
   "mimetype": "text/x-python",
   "name": "python",
   "nbconvert_exporter": "python",
   "pygments_lexer": "ipython3",
   "version": "3.11.4"
  }
 },
 "nbformat": 4,
 "nbformat_minor": 2
}
